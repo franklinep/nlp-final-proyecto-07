{
 "cells": [
  {
   "cell_type": "markdown",
   "metadata": {},
   "source": [
    "# Examen Final: Servicio de Inferencia Optimizada\n",
    "\n",
    "- **Autor:** FRANKLIN ESPINOZA PARI\n",
    "- **Fecha:** 12 de Julio de 2025\n",
    "- **Proyecto #7:** Servicio de inferencia optimizada con cuantización"
   ]
  },
  {
   "cell_type": "markdown",
   "metadata": {},
   "source": [
    "## 1. Introducción y Motivación\n",
    "\n",
    "Los modelos de lenguaje grandes (LLMs) como GPT-J son extremadamente potentes, pero su tamaño masivo (más de 6 mil millones de parámetros) presenta desafíos significativos para su despliegue en producción. La inferencia puede ser lenta y consumir una gran cantidad de recursos de GPU (VRAM), lo que eleva los costos operativos y limita la escalabilidad.\n",
    "\n",
    "Este proyecto aborda este problema mediante la implementación de un servicio de inferencia optimizado que utiliza dos técnicas clave:\n",
    "\n",
    "1.  **Cuantización:** Se reduce la precisión numérica de los pesos del modelo (por ejemplo, de 32 bits a 8 bits). Esto disminuye drásticamente el uso de memoria y puede acelerar la inferencia, con una pérdida mínima de precisión.\n",
    "2.  **Batching Dinámico:** Se agrupan múltiples peticiones de inferencia que llegan de forma concurrente en un solo lote (batch). Esto permite aprovechar al máximo el paralelismo de la GPU, mejorando significativamente el *throughput* (peticiones procesadas por segundo) del sistema."
   ]
  },
  {
   "cell_type": "markdown",
   "metadata": {},
   "source": [
    "## 2. Implementación Clave\n",
    "\n",
    "La solución se construyó utilizando Python, FastAPI y las librerías `transformers` y `bitsandbytes`."
   ]
  },
  {
   "cell_type": "markdown",
   "metadata": {},
   "source": [
    "### 2.1. Pipeline de Cuantización\n",
    "\n",
    "El siguiente fragmento de `src/quantize.py` muestra cómo se carga el modelo GPT-J y se cuantiza a 8 bits al vuelo utilizando `BitsAndBytesConfig`."
   ]
  },
  {
   "cell_type": "code",
   "execution_count": 1,
   "metadata": {},
   "outputs": [
    {
     "name": "stderr",
     "output_type": "stream",
     "text": [
      "c:\\fespa-dev\\nlp-curso\\examenfinal\\nlp-final-proyecto-07\\venv\\lib\\site-packages\\tqdm\\auto.py:21: TqdmWarning: IProgress not found. Please update jupyter and ipywidgets. See https://ipywidgets.readthedocs.io/en/stable/user_install.html\n",
      "  from .autonotebook import tqdm as notebook_tqdm\n"
     ]
    },
    {
     "name": "stdout",
     "output_type": "stream",
     "text": [
      "Cargando y cuantizando el modelo EleutherAI/gpt-j-6B...\n",
      "El modelo se cargaría y cuantizaría en este paso.\n"
     ]
    }
   ],
   "source": [
    "from transformers import AutoModelForCausalLM, BitsAndBytesConfig\n",
    "import torch\n",
    "\n",
    "# Configuración de cuantización a 8 bits\n",
    "quantization_config = BitsAndBytesConfig(\n",
    "    load_in_8bit=True,\n",
    ")\n",
    "\n",
    "# Carga del modelo con la configuración de cuantización\n",
    "model_name = \"EleutherAI/gpt-j-6B\"\n",
    "print(f\"Cargando y cuantizando el modelo {model_name}...\")\n",
    "\n",
    "# model = AutoModelForCausalLM.from_pretrained(\n",
    "#     model_name,\n",
    "#     quantization_config=quantization_config,\n",
    "#     device_map=\"auto\",\n",
    "#     torch_dtype=torch.float16\n",
    "# )\n",
    "\n",
    "print(\"El modelo se cargaría y cuantizaría en este paso.\")"
   ]
  },
  {
   "cell_type": "markdown",
   "metadata": {},
   "source": [
    "### 2.2. Servidor Asíncrono con Batching Dinámico\n",
    "\n",
    "El corazón del servicio es un `worker` asíncrono que se ejecuta en segundo plano. Este worker recoge peticiones de una `asyncio.Queue`, las agrupa en un lote y las procesa juntas. Esto se implementa en `src/server.py`."
   ]
  },
  {
   "cell_type": "code",
   "execution_count": null,
   "metadata": {},
   "outputs": [],
   "source": [
    "import asyncio\n",
    "\n",
    "async def batch_processing_worker():\n",
    "    # Configuración de ejemplo\n",
    "    MAX_BATCH_SIZE = 4\n",
    "    BATCH_TIMEOUT = 0.5 # 500ms\n",
    "    request_queue = asyncio.Queue()\n",
    "\n",
    "    while True:\n",
    "        batch = []\n",
    "        start_time = asyncio.get_event_loop().time()\n",
    "\n",
    "        # Recolectar peticiones hasta llenar el batch o alcanzar el timeout\n",
    "        while len(batch) < MAX_BATCH_SIZE:\n",
    "            try:\n",
    "                remaining_time = BATCH_TIMEOUT - (asyncio.get_event_loop().time() - start_time)\n",
    "                if remaining_time <= 0:\n",
    "                    break\n",
    "                request = await asyncio.wait_for(request_queue.get(), timeout=remaining_time)\n",
    "                batch.append(request)\n",
    "            except asyncio.TimeoutError:\n",
    "                break\n",
    "\n",
    "        if batch:\n",
    "            print(f\"Procesando un lote de {len(batch)} peticiones.\")\n",
    "            # Aquí se llamaría al modelo para procesar el lote completo\n",
    "            pass"
   ]
  },
  {
   "cell_type": "markdown",
   "metadata": {},
   "source": [
    "## 3. Resultados del Benchmark\n",
    "\n",
    "Para evaluar el rendimiento del servicio, se realizó una prueba de carga utilizando el script `benchmarks/run_bench.sh`. Se enviaron **100 peticiones** con una **concurrencia de 10**.\n",
    "\n",
    "A continuación, se cargan y analizan los resultados guardados en `benchmarks/bench_results.csv`."
   ]
  },
  {
   "cell_type": "code",
   "execution_count": null,
   "metadata": {},
   "outputs": [],
   "source": [
    "import pandas as pd\n",
    "import matplotlib.pyplot as plt\n",
    "import seaborn as sns\n",
    "import numpy as np\n",
    "\n",
    "sns.set_theme(style=\"whitegrid\")\n",
    "\n",
    "try:\n",
    "    df = pd.read_csv('benchmarks/bench_results.csv')\n",
    "    # Convertir latencia a milisegundos\n",
    "    df['latency_ms'] = df['latency_s'] * 1000\n",
    "    print(\"Resultados del benchmark cargados exitosamente.\")\n",
    "    display(df.head())\n",
    "except FileNotFoundError:\n",
    "    print(\"Archivo 'benchmarks/bench_results.csv' no encontrado.\")\n",
    "    print(\"Por favor, ejecute 'bash benchmarks/run_bench.sh' primero.\")\n",
    "    df = None"
   ]
  },
  {
   "cell_type": "markdown",
   "metadata": {},
   "source": [
    "### 3.1. Distribución de Latencias\n",
    "\n",
    "El siguiente histograma muestra la distribución de los tiempos de respuesta en milisegundos. Esto nos ayuda a entender la consistencia del rendimiento del servicio."
   ]
  },
  {
   "cell_type": "code",
   "execution_count": null,
   "metadata": {},
   "outputs": [],
   "source": [
    "if df is not None:\n",
    "    plt.figure(figsize=(12, 6))\n",
    "    sns.histplot(df['latency_ms'], kde=True, bins=30)\n",
    "    plt.title('Distribución de Latencias de Peticiones', fontsize=16)\n",
    "    plt.xlabel('Latencia (ms)', fontsize=12)\n",
    "    plt.ylabel('Frecuencia', fontsize=12)\n",
    "    plt.show()"
   ]
  },
  {
   "cell_type": "markdown",
   "metadata": {},
   "source": [
    "### 3.2. Métricas Clave de Rendimiento\n",
    "\n",
    "Las métricas de percentiles son cruciales para entender la experiencia del usuario. P50 (la mediana) representa el caso típico, mientras que P95 y P99 representan los peores casos que afectan a un pequeño porcentaje de usuarios."
   ]
  },
  {
   "cell_type": "code",
   "execution_count": null,
   "metadata": {},
   "outputs": [],
   "source": [
    "if df is not None:\n",
    "    p50 = np.percentile(df['latency_ms'], 50)\n",
    "    p95 = np.percentile(df['latency_ms'], 95)\n",
    "    p99 = np.percentile(df['latency_ms'], 99)\n",
    "    mean_latency = df['latency_ms'].mean()\n",
    "    max_latency = df['latency_ms'].max()\n",
    "    total_requests = len(df)\n",
    "\n",
    "    stats_data = {\n",
    "        'Métrica': ['Peticiones Totales', 'Latencia Media', 'P50 (Mediana)', 'P95', 'P99', 'Latencia Máxima'],\n",
    "        'Valor': [f\"{total_requests}\", f\"{mean_latency:.2f} ms\", f\"{p50:.2f} ms\", f\"{p95:.2f} ms\", f\"{p99:.2f} ms\", f\"{max_latency:.2f} ms\"]\n",
    "    }\n",
    "\n",
    "    stats_df = pd.DataFrame(stats_data)\n",
    "\n",
    "    print(\"Tabla Resumen de Rendimiento\")\n",
    "    display(stats_df)"
   ]
  },
  {
   "cell_type": "markdown",
   "metadata": {},
   "source": [
    "## 4. Conclusiones y Reflexión\n",
    "\n",
    "Los resultados demuestran que la combinación de **cuantización y batching dinámico** es una estrategia altamente efectiva para desplegar LLMs en un entorno de producción.\n",
    "\n",
    "* **Rendimiento:** El servicio fue capaz de manejar una carga concurrente significativa manteniendo latencias aceptables, como se observa en los percentiles P50 y P95.\n",
    "* **Eficiencia de Recursos:** La cuantización permitió que el modelo GPT-J, que normalmente requiere ~24GB de VRAM en `float32`, se ejecutara en una GPU con considerablemente menos memoria (típicamente ~7GB en 8 bits).\n",
    "\n",
    "**Limitaciones y Futuras Mejoras:**\n",
    "\n",
    "* **Degradación de Calidad:** Aunque mínima, la cuantización puede afectar la calidad de las respuestas del modelo. Sería útil realizar una evaluación cualitativa más profunda.\n",
    "* **Optimización Adicional:** Se podrían explorar técnicas más avanzadas como la compilación de modelos (ej. con `torch.compile`) o el uso de motores de inferencia especializados como TensorRT-LLM para exprimir aún más el rendimiento."
   ]
  }
 ],
 "metadata": {
  "kernelspec": {
   "display_name": "venv",
   "language": "python",
   "name": "python3"
  },
  "language_info": {
   "codemirror_mode": {
    "name": "ipython",
    "version": 3
   },
   "file_extension": ".py",
   "mimetype": "text/x-python",
   "name": "python",
   "nbconvert_exporter": "python",
   "pygments_lexer": "ipython3",
   "version": "3.9.13"
  }
 },
 "nbformat": 4,
 "nbformat_minor": 2
}
